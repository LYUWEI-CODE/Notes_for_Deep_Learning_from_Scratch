{
 "cells": [
  {
   "cell_type": "markdown",
   "id": "131fef10",
   "metadata": {},
   "source": [
    "深度学习"
   ]
  },
  {
   "cell_type": "markdown",
   "id": "d01e30b9",
   "metadata": {},
   "source": [
    "- 数据扩充(Data Augmentation):基于算法“人为地”扩充输入图像（训练图像）"
   ]
  },
  {
   "cell_type": "markdown",
   "id": "e9ba6ca2",
   "metadata": {},
   "source": [
    "加深层的动机"
   ]
  },
  {
   "cell_type": "markdown",
   "id": "eeab4711",
   "metadata": {},
   "source": [
    "- 减少网络的参数数量。与没有加深层的网络相比，加深了层的网络可以用更少的参数达到同等水平（或者更强）的表现力"
   ]
  },
  {
   "cell_type": "markdown",
   "id": "62dcc06b",
   "metadata": {},
   "source": [
    "- 叠加小型滤波器来加深网络的好处是可以减少参数的数量，扩大感受野（receptive field，给神经元施加变化的某个局部空间区域）。并且，通过叠加层，将ReLU等激活函数夹在卷积层的中间，进一步提高了网络的表现力。这是因为向网络添加了基于激活函数的“非线性”表现力，通过非线性函数的叠加，可以表现更加复杂的东西"
   ]
  },
  {
   "cell_type": "markdown",
   "id": "aaf976a6",
   "metadata": {},
   "source": [
    "- 使学习更加高效。与没有加深层的网络相比，通过加深层，可以减少学习数据，从而高效地进行学习"
   ]
  },
  {
   "cell_type": "markdown",
   "id": "690d99f3",
   "metadata": {},
   "source": [
    "- 通过加深层，可以分层次地传递信息"
   ]
  },
  {
   "cell_type": "markdown",
   "id": "f4d388c5",
   "metadata": {},
   "source": [
    "分布式学习"
   ]
  },
  {
   "cell_type": "markdown",
   "id": "743330f4",
   "metadata": {},
   "source": [
    "- 为了进一步提高深度学习所需的计算的速度，可以考虑在多个GPU或者多台机器上进行分布式计算"
   ]
  },
  {
   "cell_type": "markdown",
   "id": "6c3a9f05",
   "metadata": {},
   "source": [
    "- 随着GPU个数的增加，学习速度也在提高"
   ]
  },
  {
   "cell_type": "markdown",
   "id": "843232b2",
   "metadata": {},
   "source": [
    "运算精度的位数缩减"
   ]
  },
  {
   "cell_type": "markdown",
   "id": "c4e83f33",
   "metadata": {},
   "source": [
    "- 神经网络的健壮性：即便输入图像附有一些小的噪声，输出结果也仍然保持不变。因此深度学习并不那么需要数值精度的位数"
   ]
  },
  {
   "cell_type": "markdown",
   "id": "ebcdb3df",
   "metadata": {},
   "source": [
    "图像分割"
   ]
  },
  {
   "cell_type": "markdown",
   "id": "3f5060f1",
   "metadata": {},
   "source": [
    "- 在像素水平上对图像进行分类，使用以像素为单位对各个对象分别着色的监督数据进行学习"
   ]
  },
  {
   "cell_type": "markdown",
   "id": "54c89563",
   "metadata": {},
   "source": [
    "多模态处理"
   ]
  },
  {
   "cell_type": "markdown",
   "id": "3ca7c683",
   "metadata": {},
   "source": [
    "- 将组合图像和自然语言等多种信息进行处理"
   ]
  },
  {
   "cell_type": "markdown",
   "id": "283903f2",
   "metadata": {},
   "source": [
    "RNN"
   ]
  },
  {
   "cell_type": "markdown",
   "id": "52fd0156",
   "metadata": {},
   "source": [
    "- RNN的R表示Recurrent（递归的）。这个递归指的是神经网络的递归的网络结构。根据这个递归结构，神经网络会受到之前生成的信息的影响（换句话说，会记忆过去的信息），这是RNN的特征。比如，生成“我”这个词之后，下一个要生成的词受到“我”这个词的影响，生成了“要”；然后，再受到前面生成的“我要”的影响，生成了“睡觉”这个词。对于自然语言、时间序列数据等连续性的数据，RNN以记忆过去的信息的方式运行"
   ]
  },
  {
   "cell_type": "markdown",
   "id": "b37d052e",
   "metadata": {},
   "source": [
    "深度学习的未来"
   ]
  },
  {
   "cell_type": "markdown",
   "id": "4bb9b156",
   "metadata": {},
   "source": [
    "- 图像风格变换"
   ]
  },
  {
   "cell_type": "markdown",
   "id": "a4b4eeae",
   "metadata": {},
   "source": [
    "- 图像的生成"
   ]
  },
  {
   "cell_type": "markdown",
   "id": "fcd1bc2f",
   "metadata": {},
   "source": [
    "- 生成对抗网络（Generative Adversarial Network，GAN），其技术要点是使用了Generator（生成者）和Discriminator（识别者）这两个神经网络。Generator生成近似真品的图像，Discriminator判别它是不是真图像（是Generator生成的图像还是实际拍摄的图像）。像这样，通过让两者以竞争的方式学习，Generator会学习到更加精妙的图像作假技术，Discriminator则会成长为能以更高精度辨别真假的鉴定师。两者互相切磋、共同成长"
   ]
  },
  {
   "cell_type": "markdown",
   "id": "34101938",
   "metadata": {},
   "source": [
    "- 自动驾驶"
   ]
  },
  {
   "cell_type": "markdown",
   "id": "940755a8",
   "metadata": {},
   "source": [
    "- Deep Q-Network（通称DQN），强化学习的基本框架是，代理（Agent）根据环境选择行动，然后通过这个行动改变环境。根据环境的变化，代理获得某种报酬。强化学习的目的是决定代理的行动方针，以获得更好的报酬"
   ]
  }
 ],
 "metadata": {
  "language_info": {
   "name": "python"
  }
 },
 "nbformat": 4,
 "nbformat_minor": 5
}
