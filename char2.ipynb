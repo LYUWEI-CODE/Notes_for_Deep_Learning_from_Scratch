{
 "cells": [
  {
   "cell_type": "markdown",
   "id": "f77552fc",
   "metadata": {},
   "source": [
    "感知机(perceptron)"
   ]
  },
  {
   "cell_type": "markdown",
   "id": "515216a4",
   "metadata": {},
   "source": [
    "- 感知机是由美国学者Frank Rosenblatt在1957年提出的。它是作为神经网络（深度学习）的起源的算法"
   ]
  },
  {
   "cell_type": "markdown",
   "id": "2306bb6e",
   "metadata": {},
   "source": [
    "感知机是什么"
   ]
  },
  {
   "cell_type": "markdown",
   "id": "a528fc2b",
   "metadata": {},
   "source": [
    "- 感知机接收多个输入信号，输出一个信号"
   ]
  },
  {
   "cell_type": "markdown",
   "id": "aa524f38",
   "metadata": {},
   "source": [
    "简单逻辑电路"
   ]
  },
  {
   "cell_type": "markdown",
   "id": "0e1f5294",
   "metadata": {},
   "source": [
    "- 与门(AND gate)：仅在两个输入均为1时输出1，其他时候则输出0"
   ]
  },
  {
   "cell_type": "markdown",
   "id": "ccabc2c4",
   "metadata": {},
   "source": [
    "- 与非门(NAND gate)：仅在两个输入均为1时输出0，其他时候则输出1"
   ]
  },
  {
   "cell_type": "markdown",
   "id": "7842761a",
   "metadata": {},
   "source": [
    "- 或门：只要有一个输入信号是1，输出就是1"
   ]
  },
  {
   "cell_type": "markdown",
   "id": "4e5011f1",
   "metadata": {},
   "source": [
    "- 相同构造的感知机，只需通过适当地调整参数的值，就可以像“变色龙演员”表演不同的角色一样，变声为与门、与非门、或门"
   ]
  },
  {
   "cell_type": "markdown",
   "id": "93687f20",
   "metadata": {},
   "source": [
    "感知机的实现"
   ]
  },
  {
   "cell_type": "code",
   "execution_count": 4,
   "id": "02146eab",
   "metadata": {},
   "outputs": [
    {
     "name": "stdout",
     "output_type": "stream",
     "text": [
      "0\n",
      "0\n",
      "0\n",
      "1\n"
     ]
    }
   ],
   "source": [
    "def AND(x1, x2):\n",
    "    w1, w2, theta = 0.5, 0.5, 0.7\n",
    "    tmp = x1 * w1 + x2 * w2\n",
    "    if tmp <= theta:  # 如果加权和 ≤ 阈值\n",
    "        return 0\n",
    "    else:             # 如果加权和 > 阈值\n",
    "        return 1\n",
    "\n",
    "# 测试所有输入组合\n",
    "print(AND(0, 0))  # 输出 0\n",
    "print(AND(1, 0))  # 输出 0\n",
    "print(AND(0, 1))  # 输出 0\n",
    "print(AND(1, 1))  # 输出 1"
   ]
  },
  {
   "cell_type": "markdown",
   "id": "35017f21",
   "metadata": {},
   "source": [
    "导入权重与编制"
   ]
  },
  {
   "cell_type": "code",
   "execution_count": 6,
   "id": "15d61b7b",
   "metadata": {},
   "outputs": [
    {
     "data": {
      "text/plain": [
       "-0.19999999999999996"
      ]
     },
     "execution_count": 6,
     "metadata": {},
     "output_type": "execute_result"
    }
   ],
   "source": [
    "import numpy as np\n",
    "x = np.array([0, 1])    #输入\n",
    "w = np.array([0.5, 0.5])    #权重\n",
    "b = -0.7    #偏置\n",
    "w*x\n",
    "np.sum(w*x)\n",
    "np.sum(w*x) + b"
   ]
  },
  {
   "cell_type": "markdown",
   "id": "7afbb9ba",
   "metadata": {},
   "source": [
    "使用权重和偏执的实现"
   ]
  },
  {
   "cell_type": "code",
   "execution_count": 7,
   "id": "8bd3f634",
   "metadata": {},
   "outputs": [],
   "source": [
    "def AND(x1, x2):\n",
    "        x = np.array([x1, x2])\n",
    "        w = np.array([0.5, 0.5])\n",
    "        b = -0.7\n",
    "        tmp = np.sum(w*x) + b\n",
    "        if tmp <= 0:\n",
    "            return 0\n",
    "        else:\n",
    "            return 1"
   ]
  },
  {
   "cell_type": "markdown",
   "id": "d12d3113",
   "metadata": {},
   "source": [
    "- 偏置和权重w1,w2的作用是不一样的。w1和w2是控制输入信号的重要性的参数，而偏置是调整神经元被激活的容易程度（输出信号为1的程度）的参数"
   ]
  },
  {
   "cell_type": "markdown",
   "id": "395b327a",
   "metadata": {},
   "source": [
    "感知机的局限性"
   ]
  },
  {
   "cell_type": "markdown",
   "id": "f4f281b8",
   "metadata": {},
   "source": [
    "- 异或门（也被称为逻辑异或电路）：仅当x1或x2中的一方为1时，才会输出1（“异或”是拒绝其他的意思）"
   ]
  },
  {
   "cell_type": "markdown",
   "id": "8d2fe1d1",
   "metadata": {},
   "source": [
    "- 用前面介绍的感知机是无法实现异或门的"
   ]
  },
  {
   "cell_type": "markdown",
   "id": "5dd5fef6",
   "metadata": {},
   "source": [
    "线性与非线性"
   ]
  },
  {
   "cell_type": "markdown",
   "id": "905f570f",
   "metadata": {},
   "source": [
    "- 感知机的局限性就在于它只能表示由一条直线分割的空间"
   ]
  },
  {
   "cell_type": "markdown",
   "id": "a5ed08cd",
   "metadata": {},
   "source": [
    "- 由直线分割而成的空间称为线性空间"
   ]
  },
  {
   "cell_type": "markdown",
   "id": "de1ce0c8",
   "metadata": {},
   "source": [
    "- 由曲线分割而成的空间称为非线性空间"
   ]
  },
  {
   "cell_type": "markdown",
   "id": "be4ac9d9",
   "metadata": {},
   "source": [
    "多层感知机"
   ]
  },
  {
   "cell_type": "markdown",
   "id": "9b1308c7",
   "metadata": {},
   "source": [
    "- 前面讲到的局限性，严格来讲，应该是“单层感知机无法表示异或门”或者“单层感知机无法分离非线性空间”"
   ]
  },
  {
   "cell_type": "markdown",
   "id": "10170fb7",
   "metadata": {},
   "source": [
    "- 通过叠加层（加深层），感知机能进行更加灵活的表示"
   ]
  }
 ],
 "metadata": {
  "kernelspec": {
   "display_name": "base",
   "language": "python",
   "name": "python3"
  },
  "language_info": {
   "codemirror_mode": {
    "name": "ipython",
    "version": 3
   },
   "file_extension": ".py",
   "mimetype": "text/x-python",
   "name": "python",
   "nbconvert_exporter": "python",
   "pygments_lexer": "ipython3",
   "version": "3.12.4"
  }
 },
 "nbformat": 4,
 "nbformat_minor": 5
}
