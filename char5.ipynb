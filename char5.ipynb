{
 "cells": [
  {
   "cell_type": "markdown",
   "id": "c2e06c59",
   "metadata": {},
   "source": [
    "误差反向传播法"
   ]
  },
  {
   "cell_type": "markdown",
   "id": "c488bab9",
   "metadata": {},
   "source": [
    "计算图"
   ]
  },
  {
   "cell_type": "markdown",
   "id": "495c0b42",
   "metadata": {},
   "source": [
    "- 计算图的优点：\n",
    "    1.局部计算：论全局是多么复杂的计算，都可以通过局部计算使各个节点致力于简单的计算，从而简化问题。\n",
    "    2.利用计算图可以将中间的计算结果全部保存起来\n",
    "    3.以通过反向传播高效计算导数"
   ]
  },
  {
   "cell_type": "markdown",
   "id": "bbdb7e4b",
   "metadata": {},
   "source": [
    "Affine层"
   ]
  },
  {
   "cell_type": "markdown",
   "id": "bcaa07c1",
   "metadata": {},
   "source": [
    "- 神经网络的正向传播中进行的矩阵的乘积运算在几何学领域被称为“仿\n",
    "射变换”。因此，这里将进行仿射变换的处理实现为“Affine层”"
   ]
  },
  {
   "cell_type": "markdown",
   "id": "85998186",
   "metadata": {},
   "source": [
    "- 几何中，仿射变换包括一次线性变换和一次平移，分别对应神经网络的加权和运算与加偏置运算"
   ]
  }
 ],
 "metadata": {
  "language_info": {
   "name": "python"
  }
 },
 "nbformat": 4,
 "nbformat_minor": 5
}
